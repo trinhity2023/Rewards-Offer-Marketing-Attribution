{
 "cells": [
  {
   "cell_type": "code",
   "execution_count": 1,
   "metadata": {},
   "outputs": [],
   "source": [
    "import json\n",
    "import pandas as pd\n",
    "import seaborn as sns\n",
    "import matplotlib.pyplot as plt\n",
    "import matplotlib.ticker as ticker\n",
    "from matplotlib.ticker import ScalarFormatter, FormatStrFormatter\n",
    "from sklearn.preprocessing import MultiLabelBinarizer"
   ]
  },
  {
   "cell_type": "code",
   "execution_count": 2,
   "metadata": {},
   "outputs": [],
   "source": [
    "portfolio = pd.read_json(r'C:\\Desktop\\portfolio.json', orient='records', lines=True)\n",
    "profile = pd.read_json(r'C:\\Desktop\\profile.json', orient='records', lines=True)\n",
    "transcript = pd.read_json(r'C:\\Desktop\\transcript.json', orient='records', lines=True)"
   ]
  },
  {
   "cell_type": "code",
   "execution_count": 3,
   "metadata": {},
   "outputs": [],
   "source": [
    "df=pd.DataFrame(transcript['value'].values.tolist(),index=transcript.index)"
   ]
  },
  {
   "cell_type": "code",
   "execution_count": 4,
   "metadata": {},
   "outputs": [],
   "source": [
    "transcript=transcript.merge(df,left_index=True, right_index=True)"
   ]
  },
  {
   "cell_type": "code",
   "execution_count": 5,
   "metadata": {},
   "outputs": [],
   "source": [
    "#one hot encode channels\n",
    "mlb = MultiLabelBinarizer()\n",
    "channel = pd.DataFrame(mlb.fit_transform(portfolio['channels']),columns=mlb.classes_, index=portfolio.index)"
   ]
  },
  {
   "cell_type": "code",
   "execution_count": 6,
   "metadata": {},
   "outputs": [],
   "source": [
    "portfolio=portfolio.merge(channel,left_index=True, right_index=True)"
   ]
  },
  {
   "cell_type": "code",
   "execution_count": 7,
   "metadata": {},
   "outputs": [],
   "source": [
    "transcript=transcript.merge(portfolio, left_on='offer_id', right_on='id', how='left')"
   ]
  },
  {
   "cell_type": "code",
   "execution_count": 8,
   "metadata": {},
   "outputs": [
    {
     "data": {
      "text/plain": [
       "offer_type\n",
       "bogo        15669\n",
       "discount    17910\n",
       "Name: offer_id, dtype: int64"
      ]
     },
     "execution_count": 8,
     "metadata": {},
     "output_type": "execute_result"
    }
   ],
   "source": [
    "#offers completed\n",
    "offers_complete_ct=transcript[(transcript['event']=='offer completed')]\\\n",
    "            .groupby(['offer_type'])['offer_id'].count()\n",
    "offers_complete_ct"
   ]
  },
  {
   "cell_type": "code",
   "execution_count": 9,
   "metadata": {},
   "outputs": [],
   "source": [
    "#To get offers viewed by offer_type, do another join\n",
    "transcript=transcript.merge(portfolio, left_on='offer id', right_on='id', how='left')"
   ]
  },
  {
   "cell_type": "code",
   "execution_count": 10,
   "metadata": {},
   "outputs": [
    {
     "data": {
      "text/plain": [
       "offer_type_y\n",
       "bogo        25449\n",
       "discount    21445\n",
       "Name: offer id, dtype: int64"
      ]
     },
     "execution_count": 10,
     "metadata": {},
     "output_type": "execute_result"
    }
   ],
   "source": [
    "#offers viewed\n",
    "offers_view_ct=transcript[(transcript['event']=='offer viewed') &\\\n",
    "                         (transcript['offer_type_y']!='informational')].groupby(['offer_type_y'])['offer id'].count()\n",
    "offers_view_ct"
   ]
  },
  {
   "cell_type": "markdown",
   "metadata": {},
   "source": [
    "#### I want to compare business metrics to see how much improvement there can be by engaging users in reward offers.\n",
    "#### Conversion Rate=Number of Offers Completed / Number of Offers Viewed"
   ]
  },
  {
   "cell_type": "code",
   "execution_count": 11,
   "metadata": {},
   "outputs": [
    {
     "data": {
      "text/plain": [
       "offer_type\n",
       "bogo        61.6\n",
       "discount    83.5\n",
       "dtype: float64"
      ]
     },
     "execution_count": 11,
     "metadata": {},
     "output_type": "execute_result"
    }
   ],
   "source": [
    "round(offers_complete_ct/offers_view_ct*100,1)"
   ]
  },
  {
   "cell_type": "markdown",
   "metadata": {},
   "source": [
    "  "
   ]
  },
  {
   "cell_type": "markdown",
   "metadata": {},
   "source": [
    "#### Takeaway: If user views the rewards offer, their response rate is higher for discount than bogo offers."
   ]
  },
  {
   "cell_type": "markdown",
   "metadata": {},
   "source": [
    "#### Direct Response Rate= Number of Offers Completed / Number of Offers Received "
   ]
  },
  {
   "cell_type": "code",
   "execution_count": 12,
   "metadata": {},
   "outputs": [
    {
     "data": {
      "text/plain": [
       "offer_type_y\n",
       "bogo        30499\n",
       "discount    30543\n",
       "Name: offer id, dtype: int64"
      ]
     },
     "execution_count": 12,
     "metadata": {},
     "output_type": "execute_result"
    }
   ],
   "source": [
    "#offers viewed\n",
    "offers_receive_ct=transcript[(transcript['event']=='offer received') &\\\n",
    "                         (transcript['offer_type_y']!='informational')].groupby(['offer_type_y'])['offer id'].count()\n",
    "offers_receive_ct"
   ]
  },
  {
   "cell_type": "code",
   "execution_count": 13,
   "metadata": {},
   "outputs": [],
   "source": [
    "df=pd.DataFrame(round(offers_complete_ct/offers_receive_ct*100,1))"
   ]
  },
  {
   "cell_type": "code",
   "execution_count": 14,
   "metadata": {},
   "outputs": [
    {
     "data": {
      "text/html": [
       "<div>\n",
       "<style scoped>\n",
       "    .dataframe tbody tr th:only-of-type {\n",
       "        vertical-align: middle;\n",
       "    }\n",
       "\n",
       "    .dataframe tbody tr th {\n",
       "        vertical-align: top;\n",
       "    }\n",
       "\n",
       "    .dataframe thead th {\n",
       "        text-align: right;\n",
       "    }\n",
       "</style>\n",
       "<table border=\"1\" class=\"dataframe\">\n",
       "  <thead>\n",
       "    <tr style=\"text-align: right;\">\n",
       "      <th></th>\n",
       "      <th>offers_received_response_rate</th>\n",
       "    </tr>\n",
       "    <tr>\n",
       "      <th>offer_type</th>\n",
       "      <th></th>\n",
       "    </tr>\n",
       "  </thead>\n",
       "  <tbody>\n",
       "    <tr>\n",
       "      <th>bogo</th>\n",
       "      <td>51.4</td>\n",
       "    </tr>\n",
       "    <tr>\n",
       "      <th>discount</th>\n",
       "      <td>58.6</td>\n",
       "    </tr>\n",
       "  </tbody>\n",
       "</table>\n",
       "</div>"
      ],
      "text/plain": [
       "            offers_received_response_rate\n",
       "offer_type                               \n",
       "bogo                                 51.4\n",
       "discount                             58.6"
      ]
     },
     "execution_count": 14,
     "metadata": {},
     "output_type": "execute_result"
    }
   ],
   "source": [
    "df.columns =['offers_received_response_rate']\n",
    "df"
   ]
  },
  {
   "cell_type": "code",
   "execution_count": 15,
   "metadata": {},
   "outputs": [],
   "source": [
    "df['offers_viewed_response_rate']=(round(offers_complete_ct/offers_view_ct*100,1))"
   ]
  },
  {
   "cell_type": "code",
   "execution_count": 16,
   "metadata": {},
   "outputs": [],
   "source": [
    "df=df.reset_index()"
   ]
  },
  {
   "cell_type": "code",
   "execution_count": 17,
   "metadata": {},
   "outputs": [
    {
     "data": {
      "text/html": [
       "<div>\n",
       "<style scoped>\n",
       "    .dataframe tbody tr th:only-of-type {\n",
       "        vertical-align: middle;\n",
       "    }\n",
       "\n",
       "    .dataframe tbody tr th {\n",
       "        vertical-align: top;\n",
       "    }\n",
       "\n",
       "    .dataframe thead th {\n",
       "        text-align: right;\n",
       "    }\n",
       "</style>\n",
       "<table border=\"1\" class=\"dataframe\">\n",
       "  <thead>\n",
       "    <tr style=\"text-align: right;\">\n",
       "      <th></th>\n",
       "      <th>offer_type</th>\n",
       "      <th>Response Rate Definition</th>\n",
       "      <th>Response Rate Percentage</th>\n",
       "    </tr>\n",
       "  </thead>\n",
       "  <tbody>\n",
       "    <tr>\n",
       "      <th>0</th>\n",
       "      <td>bogo</td>\n",
       "      <td>offers_received_response_rate</td>\n",
       "      <td>51.4</td>\n",
       "    </tr>\n",
       "    <tr>\n",
       "      <th>1</th>\n",
       "      <td>discount</td>\n",
       "      <td>offers_received_response_rate</td>\n",
       "      <td>58.6</td>\n",
       "    </tr>\n",
       "    <tr>\n",
       "      <th>2</th>\n",
       "      <td>bogo</td>\n",
       "      <td>offers_viewed_response_rate</td>\n",
       "      <td>61.6</td>\n",
       "    </tr>\n",
       "    <tr>\n",
       "      <th>3</th>\n",
       "      <td>discount</td>\n",
       "      <td>offers_viewed_response_rate</td>\n",
       "      <td>83.5</td>\n",
       "    </tr>\n",
       "  </tbody>\n",
       "</table>\n",
       "</div>"
      ],
      "text/plain": [
       "  offer_type       Response Rate Definition  Response Rate Percentage\n",
       "0       bogo  offers_received_response_rate                      51.4\n",
       "1   discount  offers_received_response_rate                      58.6\n",
       "2       bogo    offers_viewed_response_rate                      61.6\n",
       "3   discount    offers_viewed_response_rate                      83.5"
      ]
     },
     "execution_count": 17,
     "metadata": {},
     "output_type": "execute_result"
    }
   ],
   "source": [
    "df_unpivoted=df.melt(id_vars=['offer_type'],var_name='Response Rate Definition',value_name='Response Rate Percentage')\n",
    "df_unpivoted"
   ]
  },
  {
   "cell_type": "code",
   "execution_count": 18,
   "metadata": {},
   "outputs": [
    {
     "data": {
      "image/png": "[encoded data removed]",
      "text/plain": [
       "<Figure size 548.125x360 with 1 Axes>"
      ]
     },
     "metadata": {
      "needs_background": "light"
     },
     "output_type": "display_data"
    }
   ],
   "source": [
    "ax=sns.catplot(\n",
    "    data=df_unpivoted, x=\"offer_type\", y=\"Response Rate Percentage\", hue=\"Response Rate Definition\",\n",
    "    palette={\"offers_received_response_rate\": \"y\", \"offers_viewed_response_rate\": \"g\"},\n",
    "    markers=[\"o\", \"^\"], linestyles=[\"--\", \"-\"],\n",
    "    kind=\"point\"\n",
    ")\n",
    "\n",
    "ax.set(ylim=(0, 100))\n",
    "plt.show()"
   ]
  },
  {
   "cell_type": "code",
   "execution_count": 19,
   "metadata": {},
   "outputs": [],
   "source": [
    "df['pct_diff']=df['offers_viewed_response_rate']-df['offers_received_response_rate']\n",
    "df['pct_diff']=df['pct_diff']"
   ]
  },
  {
   "cell_type": "code",
   "execution_count": 20,
   "metadata": {},
   "outputs": [
    {
     "data": {
      "image/png": "[encoded data removed]",
      "text/plain": [
       "<Figure size 432x288 with 1 Axes>"
      ]
     },
     "metadata": {
      "needs_background": "light"
     },
     "output_type": "display_data"
    }
   ],
   "source": [
    "df[['offer_type','pct_diff']].plot(x='offer_type',\n",
    "        kind='barh',legend=False,\n",
    "        stacked=False,color='green')\n",
    "                                   \n",
    "                                   \n",
    "plt.title('Percent Difference between adjusting \\n Response Rate Calculation\\n from Offers Completed/Offers Received \\n to Offers Completed/Offers Viewed',\n",
    "                              weight='bold')\n",
    "plt.ylabel('Reward Offer Type')\n",
    "plt.xlabel('Percent Difference in adjusting Response Rate definition')\n",
    "plt.show()"
   ]
  },
  {
   "cell_type": "markdown",
   "metadata": {},
   "source": [
    "#### Discount offers have a higher response rate and a higher likelihood of completion conditional on being viewed."
   ]
  }
 ],
 "metadata": {
  "kernelspec": {
   "display_name": "Python 3",
   "language": "python",
   "name": "python3"
  },
  "language_info": {
   "codemirror_mode": {
    "name": "ipython",
    "version": 3
   },
   "file_extension": ".py",
   "mimetype": "text/x-python",
   "name": "python",
   "nbconvert_exporter": "python",
   "pygments_lexer": "ipython3",
   "version": "3.8.3"
  }
 },
 "nbformat": 4,
 "nbformat_minor": 4
}
