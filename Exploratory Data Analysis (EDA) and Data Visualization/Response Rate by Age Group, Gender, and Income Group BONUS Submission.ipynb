{
 "cells": [
  {
   "cell_type": "code",
   "execution_count": 1,
   "metadata": {},
   "outputs": [],
   "source": [
    "import json\n",
    "import pandas as pd\n",
    "import seaborn as sns\n",
    "import matplotlib.pyplot as plt\n",
    "import matplotlib.ticker as ticker\n",
    "from matplotlib.ticker import ScalarFormatter, FormatStrFormatter,StrMethodFormatter\n",
    "from matplotlib.ticker import FormatStrFormatter\n",
    "import numpy as np\n",
    "from sklearn.preprocessing import MultiLabelBinarizer"
   ]
  },
  {
   "cell_type": "code",
   "execution_count": 2,
   "metadata": {},
   "outputs": [],
   "source": [
    "portfolio = pd.read_json(r'C:\\Desktop\\portfolio.json', orient='records', lines=True)\n",
    "profile = pd.read_json(r'C:\\Desktop\\profile.json', orient='records', lines=True)\n",
    "transcript = pd.read_json(r'C:\\Desktop\\transcript.json', orient='records', lines=True)"
   ]
  },
  {
   "cell_type": "code",
   "execution_count": 3,
   "metadata": {},
   "outputs": [],
   "source": [
    "df=pd.DataFrame(transcript['value'].values.tolist(),index=transcript.index)"
   ]
  },
  {
   "cell_type": "code",
   "execution_count": 4,
   "metadata": {},
   "outputs": [],
   "source": [
    "transcript=transcript.merge(df,left_index=True, right_index=True)"
   ]
  },
  {
   "cell_type": "code",
   "execution_count": 5,
   "metadata": {},
   "outputs": [],
   "source": [
    "#one hot encode channels\n",
    "mlb = MultiLabelBinarizer()\n",
    "channel = pd.DataFrame(mlb.fit_transform(portfolio['channels']),columns=mlb.classes_, index=portfolio.index)"
   ]
  },
  {
   "cell_type": "code",
   "execution_count": 6,
   "metadata": {},
   "outputs": [],
   "source": [
    "portfolio=portfolio.merge(channel,left_index=True, right_index=True)"
   ]
  },
  {
   "cell_type": "code",
   "execution_count": 7,
   "metadata": {},
   "outputs": [],
   "source": [
    "transcript=transcript.merge(portfolio, left_on='offer_id', right_on='id', how='left')"
   ]
  },
  {
   "cell_type": "code",
   "execution_count": 8,
   "metadata": {},
   "outputs": [],
   "source": [
    "transcript=transcript.merge(profile, left_on='person', right_on='id', how='left')"
   ]
  },
  {
   "cell_type": "code",
   "execution_count": 9,
   "metadata": {},
   "outputs": [],
   "source": [
    "transcript=transcript.merge(portfolio, left_on='offer id', right_on='id', how='left')"
   ]
  },
  {
   "cell_type": "code",
   "execution_count": 10,
   "metadata": {},
   "outputs": [],
   "source": [
    "bins= [18,35,51,68,84,102]\n",
    "labels = ['18-34','35-50','51-67','68-83','84-101']\n",
    "transcript['age_group']=pd.cut(transcript['age'], bins=bins, labels=labels,right=False)"
   ]
  },
  {
   "cell_type": "code",
   "execution_count": 11,
   "metadata": {},
   "outputs": [],
   "source": [
    "bins= [30000,50001,75001,100001,120001]\n",
    "labels = ['30k-50k','50k-75k','75k-100k','100k-120k']\n",
    "transcript['income_group']=pd.cut(transcript['income'], bins=bins, labels=labels,right=False)"
   ]
  },
  {
   "cell_type": "code",
   "execution_count": 12,
   "metadata": {},
   "outputs": [],
   "source": [
    "#Calculate Gender Response Rate\n",
    "transcript_a=transcript[(transcript['event']=='offer completed') & ((transcript['gender']=='M')\\\n",
    "                        | (transcript['gender']=='F'))]\\\n",
    ".groupby(['gender'])['event'].count()"
   ]
  },
  {
   "cell_type": "code",
   "execution_count": 13,
   "metadata": {},
   "outputs": [
    {
     "data": {
      "text/plain": [
       "gender\n",
       "F    15477\n",
       "M    16466\n",
       "Name: event, dtype: int64"
      ]
     },
     "execution_count": 13,
     "metadata": {},
     "output_type": "execute_result"
    }
   ],
   "source": [
    "transcript_a"
   ]
  },
  {
   "cell_type": "code",
   "execution_count": 14,
   "metadata": {},
   "outputs": [],
   "source": [
    "transcript_b=transcript[(transcript['event']=='offer received') & (transcript['offer_type_y']!='informational')\n",
    "& ((transcript['gender']=='M') | (transcript['gender']=='F'))]\\\n",
    ".groupby(['gender'])['event'].count()\n",
    "# I omit O because it's unclear what gender it is so would not inform future targeting strategy"
   ]
  },
  {
   "cell_type": "code",
   "execution_count": 15,
   "metadata": {},
   "outputs": [
    {
     "data": {
      "text/plain": [
       "gender\n",
       "F    21918\n",
       "M    30562\n",
       "Name: event, dtype: int64"
      ]
     },
     "execution_count": 15,
     "metadata": {},
     "output_type": "execute_result"
    }
   ],
   "source": [
    "transcript_b"
   ]
  },
  {
   "cell_type": "code",
   "execution_count": 16,
   "metadata": {},
   "outputs": [
    {
     "data": {
      "text/html": [
       "<div>\n",
       "<style scoped>\n",
       "    .dataframe tbody tr th:only-of-type {\n",
       "        vertical-align: middle;\n",
       "    }\n",
       "\n",
       "    .dataframe tbody tr th {\n",
       "        vertical-align: top;\n",
       "    }\n",
       "\n",
       "    .dataframe thead th {\n",
       "        text-align: right;\n",
       "    }\n",
       "</style>\n",
       "<table border=\"1\" class=\"dataframe\">\n",
       "  <thead>\n",
       "    <tr style=\"text-align: right;\">\n",
       "      <th></th>\n",
       "      <th>gender</th>\n",
       "      <th>event</th>\n",
       "    </tr>\n",
       "  </thead>\n",
       "  <tbody>\n",
       "    <tr>\n",
       "      <th>0</th>\n",
       "      <td>F</td>\n",
       "      <td>70.6</td>\n",
       "    </tr>\n",
       "    <tr>\n",
       "      <th>1</th>\n",
       "      <td>M</td>\n",
       "      <td>53.9</td>\n",
       "    </tr>\n",
       "  </tbody>\n",
       "</table>\n",
       "</div>"
      ],
      "text/plain": [
       "  gender  event\n",
       "0      F   70.6\n",
       "1      M   53.9"
      ]
     },
     "execution_count": 16,
     "metadata": {},
     "output_type": "execute_result"
    }
   ],
   "source": [
    "gender_response_rate=pd.DataFrame(round(transcript_a/transcript_b*100,1)).reset_index()\n",
    "gender_response_rate"
   ]
  },
  {
   "cell_type": "code",
   "execution_count": 17,
   "metadata": {},
   "outputs": [
    {
     "data": {
      "text/html": [
       "<div>\n",
       "<style scoped>\n",
       "    .dataframe tbody tr th:only-of-type {\n",
       "        vertical-align: middle;\n",
       "    }\n",
       "\n",
       "    .dataframe tbody tr th {\n",
       "        vertical-align: top;\n",
       "    }\n",
       "\n",
       "    .dataframe thead th {\n",
       "        text-align: right;\n",
       "    }\n",
       "</style>\n",
       "<table border=\"1\" class=\"dataframe\">\n",
       "  <thead>\n",
       "    <tr style=\"text-align: right;\">\n",
       "      <th></th>\n",
       "      <th>Gender</th>\n",
       "      <th>Gender Response Rate</th>\n",
       "    </tr>\n",
       "  </thead>\n",
       "  <tbody>\n",
       "    <tr>\n",
       "      <th>0</th>\n",
       "      <td>F</td>\n",
       "      <td>70.6</td>\n",
       "    </tr>\n",
       "    <tr>\n",
       "      <th>1</th>\n",
       "      <td>M</td>\n",
       "      <td>53.9</td>\n",
       "    </tr>\n",
       "  </tbody>\n",
       "</table>\n",
       "</div>"
      ],
      "text/plain": [
       "  Gender  Gender Response Rate\n",
       "0      F                  70.6\n",
       "1      M                  53.9"
      ]
     },
     "execution_count": 17,
     "metadata": {},
     "output_type": "execute_result"
    }
   ],
   "source": [
    "gender_response_rate.columns=['Gender','Gender Response Rate']\n",
    "gender_response_rate"
   ]
  },
  {
   "cell_type": "code",
   "execution_count": 18,
   "metadata": {},
   "outputs": [
    {
     "data": {
      "image/png": "[encoded data removed]",
      "text/plain": [
       "<Figure size 432x288 with 1 Axes>"
      ]
     },
     "metadata": {
      "needs_background": "light"
     },
     "output_type": "display_data"
    }
   ],
   "source": [
    "fig, ax = plt.subplots()\n",
    "ax.yaxis.set_major_formatter(StrMethodFormatter('{x:,}'))\n",
    "plt.bar(gender_response_rate['Gender'],gender_response_rate['Gender Response Rate'],\n",
    "       color=['tab:pink','tab:blue'])\n",
    "\n",
    "#https://stackoverflow.com/questions/70235487/matplotlib-adding-value-labels-to-bar-graph\n",
    "ax.bar_label(ax.containers[0], label_type='edge', fmt='{:,.1f}%')\n",
    "plt.tight_layout()\n",
    "plt.title('Gender Response Rate')\n",
    "plt.xlabel('Gender')\n",
    "plt.ylabel('Gender Response Rate')\n",
    "plt.show()"
   ]
  },
  {
   "cell_type": "code",
   "execution_count": 19,
   "metadata": {},
   "outputs": [
    {
     "data": {
      "text/plain": [
       "age_group\n",
       "18-34      3943\n",
       "35-50      7302\n",
       "51-67     13334\n",
       "68-83      6282\n",
       "84-101     1583\n",
       "Name: event, dtype: int64"
      ]
     },
     "execution_count": 19,
     "metadata": {},
     "output_type": "execute_result"
    }
   ],
   "source": [
    "#Calculate Age Group Response Rate\n",
    "transcript_c=transcript[(transcript['event']=='offer completed') & ((transcript['age_group']=='18-34')\\\n",
    "                        | (transcript['age_group']=='35-50') | (transcript['age_group']=='51-67') \\\n",
    "                        | (transcript['age_group']=='68-83') | (transcript['age_group']=='84-101'))]\\\n",
    ".groupby(['age_group'])['event'].count()\n",
    "transcript_c"
   ]
  },
  {
   "cell_type": "code",
   "execution_count": 20,
   "metadata": {},
   "outputs": [
    {
     "data": {
      "text/plain": [
       "age_group\n",
       "18-34      8176\n",
       "35-50     12281\n",
       "51-67     20662\n",
       "68-83      9733\n",
       "84-101     2349\n",
       "Name: event, dtype: int64"
      ]
     },
     "execution_count": 20,
     "metadata": {},
     "output_type": "execute_result"
    }
   ],
   "source": [
    "transcript_d=transcript[(transcript['event']=='offer received') & (transcript['offer_type_y']!='informational')\\\n",
    "                        & ((transcript['age_group']=='18-34')\\\n",
    "                        | (transcript['age_group']=='35-50') | (transcript['age_group']=='51-67') \\\n",
    "                        | (transcript['age_group']=='68-83') | (transcript['age_group']=='84-101'))]\\\n",
    ".groupby(['age_group'])['event'].count()\n",
    "transcript_d"
   ]
  },
  {
   "cell_type": "code",
   "execution_count": 21,
   "metadata": {},
   "outputs": [
    {
     "data": {
      "text/html": [
       "<div>\n",
       "<style scoped>\n",
       "    .dataframe tbody tr th:only-of-type {\n",
       "        vertical-align: middle;\n",
       "    }\n",
       "\n",
       "    .dataframe tbody tr th {\n",
       "        vertical-align: top;\n",
       "    }\n",
       "\n",
       "    .dataframe thead th {\n",
       "        text-align: right;\n",
       "    }\n",
       "</style>\n",
       "<table border=\"1\" class=\"dataframe\">\n",
       "  <thead>\n",
       "    <tr style=\"text-align: right;\">\n",
       "      <th></th>\n",
       "      <th>Age Group</th>\n",
       "      <th>Age Group Response Rate</th>\n",
       "    </tr>\n",
       "  </thead>\n",
       "  <tbody>\n",
       "    <tr>\n",
       "      <th>0</th>\n",
       "      <td>18-34</td>\n",
       "      <td>48.2</td>\n",
       "    </tr>\n",
       "    <tr>\n",
       "      <th>1</th>\n",
       "      <td>35-50</td>\n",
       "      <td>59.5</td>\n",
       "    </tr>\n",
       "    <tr>\n",
       "      <th>2</th>\n",
       "      <td>51-67</td>\n",
       "      <td>64.5</td>\n",
       "    </tr>\n",
       "    <tr>\n",
       "      <th>3</th>\n",
       "      <td>68-83</td>\n",
       "      <td>64.5</td>\n",
       "    </tr>\n",
       "    <tr>\n",
       "      <th>4</th>\n",
       "      <td>84-101</td>\n",
       "      <td>67.4</td>\n",
       "    </tr>\n",
       "  </tbody>\n",
       "</table>\n",
       "</div>"
      ],
      "text/plain": [
       "  Age Group  Age Group Response Rate\n",
       "0     18-34                     48.2\n",
       "1     35-50                     59.5\n",
       "2     51-67                     64.5\n",
       "3     68-83                     64.5\n",
       "4    84-101                     67.4"
      ]
     },
     "execution_count": 21,
     "metadata": {},
     "output_type": "execute_result"
    }
   ],
   "source": [
    "age_group_response_rate=pd.DataFrame(round(transcript_c/transcript_d*100,1)).reset_index()\n",
    "age_group_response_rate.columns=['Age Group','Age Group Response Rate']\n",
    "age_group_response_rate"
   ]
  },
  {
   "cell_type": "code",
   "execution_count": 22,
   "metadata": {},
   "outputs": [
    {
     "data": {
      "image/png": "[encoded data removed]",
      "text/plain": [
       "<Figure size 432x288 with 1 Axes>"
      ]
     },
     "metadata": {
      "needs_background": "light"
     },
     "output_type": "display_data"
    }
   ],
   "source": [
    "fig, ax = plt.subplots()\n",
    "ax.yaxis.set_major_formatter(StrMethodFormatter('{x:,}'))\n",
    "plt.bar(age_group_response_rate['Age Group'],age_group_response_rate['Age Group Response Rate'],\n",
    "       color=['sandybrown','khaki','gold','orange','peru'])\n",
    "\n",
    "#https://stackoverflow.com/questions/70235487/matplotlib-adding-value-labels-to-bar-graph\n",
    "ax.bar_label(ax.containers[0], label_type='edge', fmt='{:,.1f}%')\n",
    "plt.tight_layout()\n",
    "plt.title('Age Group Response Rate')\n",
    "plt.xlabel('Age Group Segment')\n",
    "plt.ylabel('Age Group Response Rate')\n",
    "plt.show()"
   ]
  },
  {
   "cell_type": "code",
   "execution_count": 23,
   "metadata": {},
   "outputs": [
    {
     "data": {
      "text/plain": [
       "income_group\n",
       "30k-50k       6552\n",
       "50k-75k      14010\n",
       "75k-100k      9059\n",
       "100k-120k     2823\n",
       "Name: event, dtype: int64"
      ]
     },
     "execution_count": 23,
     "metadata": {},
     "output_type": "execute_result"
    }
   ],
   "source": [
    "#Calculate Income Group Response Rate\n",
    "transcript_e=transcript[(transcript['event']=='offer completed') & (transcript['offer_type_y']!='informational') &\n",
    "                        ((transcript['income_group']=='30k-50k')\\\n",
    "                        | (transcript['income_group']=='50k-75k') | (transcript['income_group']=='75k-100k') \\\n",
    "                        | (transcript['income_group']=='100k-120k'))]\\\n",
    ".groupby(['income_group'])['event'].count()\n",
    "transcript_e"
   ]
  },
  {
   "cell_type": "code",
   "execution_count": 24,
   "metadata": {},
   "outputs": [
    {
     "data": {
      "text/plain": [
       "income_group\n",
       "30k-50k      14522\n",
       "50k-75k      23088\n",
       "75k-100k     11954\n",
       "100k-120k     3637\n",
       "Name: event, dtype: int64"
      ]
     },
     "execution_count": 24,
     "metadata": {},
     "output_type": "execute_result"
    }
   ],
   "source": [
    "transcript_f=transcript[(transcript['event']=='offer received') & (transcript['offer_type_y']!='informational') &\n",
    "                        ((transcript['income_group']=='30k-50k')\\\n",
    "                        | (transcript['income_group']=='50k-75k') | (transcript['income_group']=='75k-100k') \\\n",
    "                        | (transcript['income_group']=='100k-120k'))]\\\n",
    ".groupby(['income_group'])['event'].count()\n",
    "transcript_f"
   ]
  },
  {
   "cell_type": "code",
   "execution_count": 25,
   "metadata": {
    "scrolled": true
   },
   "outputs": [
    {
     "data": {
      "text/html": [
       "<div>\n",
       "<style scoped>\n",
       "    .dataframe tbody tr th:only-of-type {\n",
       "        vertical-align: middle;\n",
       "    }\n",
       "\n",
       "    .dataframe tbody tr th {\n",
       "        vertical-align: top;\n",
       "    }\n",
       "\n",
       "    .dataframe thead th {\n",
       "        text-align: right;\n",
       "    }\n",
       "</style>\n",
       "<table border=\"1\" class=\"dataframe\">\n",
       "  <thead>\n",
       "    <tr style=\"text-align: right;\">\n",
       "      <th></th>\n",
       "      <th>Income Group</th>\n",
       "      <th>Income Group Response Rate</th>\n",
       "    </tr>\n",
       "  </thead>\n",
       "  <tbody>\n",
       "    <tr>\n",
       "      <th>0</th>\n",
       "      <td>30k-50k</td>\n",
       "      <td>45.1</td>\n",
       "    </tr>\n",
       "    <tr>\n",
       "      <th>1</th>\n",
       "      <td>50k-75k</td>\n",
       "      <td>60.7</td>\n",
       "    </tr>\n",
       "    <tr>\n",
       "      <th>2</th>\n",
       "      <td>75k-100k</td>\n",
       "      <td>75.8</td>\n",
       "    </tr>\n",
       "    <tr>\n",
       "      <th>3</th>\n",
       "      <td>100k-120k</td>\n",
       "      <td>77.6</td>\n",
       "    </tr>\n",
       "  </tbody>\n",
       "</table>\n",
       "</div>"
      ],
      "text/plain": [
       "  Income Group  Income Group Response Rate\n",
       "0      30k-50k                        45.1\n",
       "1      50k-75k                        60.7\n",
       "2     75k-100k                        75.8\n",
       "3    100k-120k                        77.6"
      ]
     },
     "execution_count": 25,
     "metadata": {},
     "output_type": "execute_result"
    }
   ],
   "source": [
    "income_group_response_rate=pd.DataFrame(round(transcript_e/transcript_f*100,1)).reset_index()\n",
    "income_group_response_rate.columns=['Income Group','Income Group Response Rate']\n",
    "income_group_response_rate"
   ]
  },
  {
   "cell_type": "code",
   "execution_count": 26,
   "metadata": {},
   "outputs": [
    {
     "data": {
      "image/png": "[encoded data removed]",
      "text/plain": [
       "<Figure size 432x288 with 1 Axes>"
      ]
     },
     "metadata": {
      "needs_background": "light"
     },
     "output_type": "display_data"
    }
   ],
   "source": [
    "fig, ax = plt.subplots()\n",
    "ax.yaxis.set_major_formatter(StrMethodFormatter('{x:,}'))\n",
    "plt.bar(income_group_response_rate['Income Group'],income_group_response_rate['Income Group Response Rate'],\n",
    "       color=['yellowgreen','mediumseagreen','forestgreen','darkgreen'])\n",
    "\n",
    "#https://stackoverflow.com/questions/70235487/matplotlib-adding-value-labels-to-bar-graph\n",
    "ax.bar_label(ax.containers[0], label_type='edge', fmt='{:,.1f}%')\n",
    "plt.tight_layout()\n",
    "plt.title('Income Group Response Rate')\n",
    "plt.xlabel('Income Group Segment')\n",
    "plt.ylabel('Income Group Response Rate')\n",
    "plt.show()"
   ]
  }
 ],
 "metadata": {
  "kernelspec": {
   "display_name": "Python 3",
   "language": "python",
   "name": "python3"
  },
  "language_info": {
   "codemirror_mode": {
    "name": "ipython",
    "version": 3
   },
   "file_extension": ".py",
   "mimetype": "text/x-python",
   "name": "python",
   "nbconvert_exporter": "python",
   "pygments_lexer": "ipython3",
   "version": "3.8.3"
  }
 },
 "nbformat": 4,
 "nbformat_minor": 4
}
