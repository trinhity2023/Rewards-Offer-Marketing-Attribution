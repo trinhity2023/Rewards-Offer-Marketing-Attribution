{
 "cells": [
  {
   "cell_type": "code",
   "execution_count": 1,
   "metadata": {},
   "outputs": [],
   "source": [
    "import json\n",
    "import pandas as pd\n",
    "import seaborn as sns\n",
    "import matplotlib.pyplot as plt\n",
    "import matplotlib.ticker as ticker\n",
    "from matplotlib.ticker import ScalarFormatter, FormatStrFormatter\n",
    "from sklearn.preprocessing import MultiLabelBinarizer"
   ]
  },
  {
   "cell_type": "code",
   "execution_count": 2,
   "metadata": {},
   "outputs": [],
   "source": [
    "portfolio = pd.read_json(r'C:\\Desktop\\portfolio.json', orient='records', lines=True)\n",
    "profile = pd.read_json(r'C:\\Desktop\\profile.json', orient='records', lines=True)\n",
    "transcript = pd.read_json(r'C:\\Desktop\\transcript.json', orient='records', lines=True)"
   ]
  },
  {
   "cell_type": "code",
   "execution_count": 3,
   "metadata": {},
   "outputs": [],
   "source": [
    "df=pd.DataFrame(transcript['value'].values.tolist(),index=transcript.index)"
   ]
  },
  {
   "cell_type": "code",
   "execution_count": 4,
   "metadata": {},
   "outputs": [],
   "source": [
    "transcript=transcript.merge(df,left_index=True, right_index=True)"
   ]
  },
  {
   "cell_type": "code",
   "execution_count": 5,
   "metadata": {},
   "outputs": [],
   "source": [
    "#one hot encode channels\n",
    "mlb = MultiLabelBinarizer()\n",
    "channel = pd.DataFrame(mlb.fit_transform(portfolio['channels']),columns=mlb.classes_, index=portfolio.index)"
   ]
  },
  {
   "cell_type": "code",
   "execution_count": 6,
   "metadata": {},
   "outputs": [],
   "source": [
    "portfolio=portfolio.merge(channel,left_index=True, right_index=True)"
   ]
  },
  {
   "cell_type": "code",
   "execution_count": 7,
   "metadata": {},
   "outputs": [],
   "source": [
    "transcript=transcript.merge(portfolio, left_on='offer_id', right_on='id', how='left')"
   ]
  },
  {
   "cell_type": "code",
   "execution_count": 8,
   "metadata": {},
   "outputs": [],
   "source": [
    "transcript=transcript.merge(profile, left_on='person', right_on='id', how='left')"
   ]
  },
  {
   "cell_type": "code",
   "execution_count": 9,
   "metadata": {
    "scrolled": true
   },
   "outputs": [
    {
     "data": {
      "text/plain": [
       "age\n",
       "18       70\n",
       "19      135\n",
       "20      135\n",
       "21      140\n",
       "22      131\n",
       "       ... \n",
       "98        5\n",
       "99        5\n",
       "100      12\n",
       "101       5\n",
       "118    2175\n",
       "Name: person, Length: 85, dtype: int64"
      ]
     },
     "execution_count": 9,
     "metadata": {},
     "output_type": "execute_result"
    }
   ],
   "source": [
    "agg = (transcript.groupby(['age', 'person'])\n",
    "         .agg({'person': 'nunique'})\n",
    "      )\n",
    "agg.groupby('age')['person'].count()"
   ]
  },
  {
   "cell_type": "code",
   "execution_count": 10,
   "metadata": {},
   "outputs": [],
   "source": [
    "tran=transcript.groupby('age')['amount'].sum()/agg.groupby('age')['person'].count()\n",
    "avg_spend_by_age=pd.DataFrame(tran).reset_index()\n",
    "avg_spend_by_age.columns =['age','avg_dollars_spent']\n",
    "avg_spend_by_age=avg_spend_by_age[avg_spend_by_age['age']!=118] \n",
    "#filter out age 118 because it is an imputation for users with no gender,age, or income"
   ]
  },
  {
   "cell_type": "code",
   "execution_count": 11,
   "metadata": {},
   "outputs": [
    {
     "data": {
      "text/html": [
       "<div>\n",
       "<style scoped>\n",
       "    .dataframe tbody tr th:only-of-type {\n",
       "        vertical-align: middle;\n",
       "    }\n",
       "\n",
       "    .dataframe tbody tr th {\n",
       "        vertical-align: top;\n",
       "    }\n",
       "\n",
       "    .dataframe thead th {\n",
       "        text-align: right;\n",
       "    }\n",
       "</style>\n",
       "<table border=\"1\" class=\"dataframe\">\n",
       "  <thead>\n",
       "    <tr style=\"text-align: right;\">\n",
       "      <th></th>\n",
       "      <th>age</th>\n",
       "      <th>avg_dollars_spent</th>\n",
       "      <th>age_group</th>\n",
       "    </tr>\n",
       "  </thead>\n",
       "  <tbody>\n",
       "    <tr>\n",
       "      <th>0</th>\n",
       "      <td>18</td>\n",
       "      <td>80.465286</td>\n",
       "      <td>18-24</td>\n",
       "    </tr>\n",
       "    <tr>\n",
       "      <th>1</th>\n",
       "      <td>19</td>\n",
       "      <td>71.889778</td>\n",
       "      <td>18-24</td>\n",
       "    </tr>\n",
       "    <tr>\n",
       "      <th>2</th>\n",
       "      <td>20</td>\n",
       "      <td>76.888148</td>\n",
       "      <td>18-24</td>\n",
       "    </tr>\n",
       "    <tr>\n",
       "      <th>3</th>\n",
       "      <td>21</td>\n",
       "      <td>98.846357</td>\n",
       "      <td>18-24</td>\n",
       "    </tr>\n",
       "    <tr>\n",
       "      <th>4</th>\n",
       "      <td>22</td>\n",
       "      <td>94.175725</td>\n",
       "      <td>18-24</td>\n",
       "    </tr>\n",
       "    <tr>\n",
       "      <th>...</th>\n",
       "      <td>...</td>\n",
       "      <td>...</td>\n",
       "      <td>...</td>\n",
       "    </tr>\n",
       "    <tr>\n",
       "      <th>79</th>\n",
       "      <td>97</td>\n",
       "      <td>163.072308</td>\n",
       "      <td>95-101</td>\n",
       "    </tr>\n",
       "    <tr>\n",
       "      <th>80</th>\n",
       "      <td>98</td>\n",
       "      <td>74.076000</td>\n",
       "      <td>95-101</td>\n",
       "    </tr>\n",
       "    <tr>\n",
       "      <th>81</th>\n",
       "      <td>99</td>\n",
       "      <td>168.376000</td>\n",
       "      <td>95-101</td>\n",
       "    </tr>\n",
       "    <tr>\n",
       "      <th>82</th>\n",
       "      <td>100</td>\n",
       "      <td>169.395000</td>\n",
       "      <td>95-101</td>\n",
       "    </tr>\n",
       "    <tr>\n",
       "      <th>83</th>\n",
       "      <td>101</td>\n",
       "      <td>175.586000</td>\n",
       "      <td>95-101</td>\n",
       "    </tr>\n",
       "  </tbody>\n",
       "</table>\n",
       "<p>84 rows × 3 columns</p>\n",
       "</div>"
      ],
      "text/plain": [
       "    age  avg_dollars_spent age_group\n",
       "0    18          80.465286     18-24\n",
       "1    19          71.889778     18-24\n",
       "2    20          76.888148     18-24\n",
       "3    21          98.846357     18-24\n",
       "4    22          94.175725     18-24\n",
       "..  ...                ...       ...\n",
       "79   97         163.072308    95-101\n",
       "80   98          74.076000    95-101\n",
       "81   99         168.376000    95-101\n",
       "82  100         169.395000    95-101\n",
       "83  101         175.586000    95-101\n",
       "\n",
       "[84 rows x 3 columns]"
      ]
     },
     "execution_count": 11,
     "metadata": {},
     "output_type": "execute_result"
    }
   ],
   "source": [
    "#initial bins in 10 year increment\n",
    "bins= [18,25,35,45,55,65,75,85,95,105]\n",
    "labels = ['18-24','25-34','35-44','45-54','55-64','65-74','75-84','85-94','95-101']\n",
    "avg_spend_by_age['age_group']=pd.cut(avg_spend_by_age['age'], bins=bins, labels=labels, right=False)\n",
    "avg_spend_by_age"
   ]
  },
  {
   "cell_type": "code",
   "execution_count": 12,
   "metadata": {},
   "outputs": [
    {
     "data": {
      "image/png": "[encoded data removed]",
      "text/plain": [
       "<Figure size 360x360 with 1 Axes>"
      ]
     },
     "metadata": {
      "needs_background": "light"
     },
     "output_type": "display_data"
    }
   ],
   "source": [
    "#Slide 7- Starbucks average spend increases with customer age bar chart\n",
    "sns.catplot(data=avg_spend_by_age, x=\"age_group\", y=\"avg_dollars_spent\",kind='box')\n",
    "plt.title(\"Average Dollars Spent by Age Group\")\n",
    "plt.show()"
   ]
  },
  {
   "cell_type": "code",
   "execution_count": 13,
   "metadata": {},
   "outputs": [
    {
     "name": "stdout",
     "output_type": "stream",
     "text": [
      "There are 16578 Starbucks members that have spent this month and \n",
      " 422 members that have not spent this month.\n",
      "\n",
      "In other words, that is 97.5 percent of the population that are active users \n",
      "and 2.5 of the population that are inactive users\n"
     ]
    }
   ],
   "source": [
    "total_members=len(pd.unique(transcript['person']))\n",
    "paying_members=transcript.groupby('person')['amount'].count()\\\n",
    "                .sort_values(ascending=False).astype(bool).sum(axis=0)\n",
    "non_paying_members=total_members-paying_members\n",
    "\n",
    "print(\"There are\",paying_members,\"Starbucks members that have spent this month and \\n\",\\\n",
    "      non_paying_members,\"members that have not spent this month.\\n\")\n",
    "print(\"In other words, that is\", round(paying_members/total_members*100,1), \\\n",
    "      \"percent of the population that are active users \\nand\",\\\n",
    "     round(non_paying_members/total_members*100,1), \"of the population that are inactive users\")"
   ]
  },
  {
   "cell_type": "code",
   "execution_count": 14,
   "metadata": {},
   "outputs": [
    {
     "data": {
      "text/plain": [
       "Active Members      16578\n",
       "Inactive Members      422\n",
       "Name: Number_Members, dtype: int64"
      ]
     },
     "execution_count": 14,
     "metadata": {},
     "output_type": "execute_result"
    }
   ],
   "source": [
    "d = {'Active Members': [paying_members], 'Inactive Members': [non_paying_members]}\n",
    "df = pd.DataFrame(data=d)\n",
    "df=df.T\n",
    "df.columns=['Number_Members']\n",
    "df.squeeze()"
   ]
  },
  {
   "cell_type": "code",
   "execution_count": 15,
   "metadata": {},
   "outputs": [
    {
     "data": {
      "image/png": "[encoded data removed]",
      "text/plain": [
       "<Figure size 360x360 with 1 Axes>"
      ]
     },
     "metadata": {},
     "output_type": "display_data"
    }
   ],
   "source": [
    "#Slide 10- Opportunity to convert inactive members to active members.\n",
    "def autopct_format(values):\n",
    "        def my_format(pct):\n",
    "            total = sum(values)\n",
    "            val = int(round(pct*total/100.0))\n",
    "            return '{:.1f}%\\n({v:d})'.format(pct, v=val)\n",
    "        return my_format\n",
    "fig1, ax1 = plt.subplots()    \n",
    "colors = sns.color_palette('Set2')\n",
    "explode = (0.3, 0.3)  \n",
    "s = df.squeeze()\n",
    "fig1.set_size_inches(5,5)\n",
    "plt.pie(s,labels = s.index, explode=explode, shadow=True,colors=colors, autopct=autopct_format(s),textprops={'fontsize': 15})\n",
    "fontsize = 20\n",
    "plt.title('Active vs Inactive Members', fontdict={'fontsize': fontsize})\n",
    "plt.show()\n"
   ]
  }
 ],
 "metadata": {
  "kernelspec": {
   "display_name": "Python 3",
   "language": "python",
   "name": "python3"
  },
  "language_info": {
   "codemirror_mode": {
    "name": "ipython",
    "version": 3
   },
   "file_extension": ".py",
   "mimetype": "text/x-python",
   "name": "python",
   "nbconvert_exporter": "python",
   "pygments_lexer": "ipython3",
   "version": "3.8.3"
  }
 },
 "nbformat": 4,
 "nbformat_minor": 4
}
