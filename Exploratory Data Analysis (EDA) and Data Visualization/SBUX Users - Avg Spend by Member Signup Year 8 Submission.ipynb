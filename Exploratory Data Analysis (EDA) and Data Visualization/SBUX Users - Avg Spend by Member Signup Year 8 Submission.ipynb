{
 "cells": [
  {
   "cell_type": "code",
   "execution_count": 1,
   "metadata": {},
   "outputs": [],
   "source": [
    "import json\n",
    "import pandas as pd \n",
    "import seaborn as sns\n",
    "import matplotlib.pyplot as plt\n",
    "import matplotlib.ticker as ticker\n",
    "from matplotlib.ticker import FormatStrFormatter, StrMethodFormatter,ScalarFormatter\n",
    "import datetime as datetime\n",
    "import numpy as np"
   ]
  },
  {
   "cell_type": "code",
   "execution_count": 2,
   "metadata": {},
   "outputs": [],
   "source": [
    "#read json\n",
    "portfolio = pd.read_json(r'C:\\Desktop\\portfolio.json', orient='records', lines=True)\n",
    "profile = pd.read_json(r'C:\\Desktop\\profile.json', orient='records', lines=True)\n",
    "transcript = pd.read_json(r'C:\\Desktop\\transcript.json', orient='records', lines=True)"
   ]
  },
  {
   "cell_type": "code",
   "execution_count": 3,
   "metadata": {},
   "outputs": [],
   "source": [
    "df=pd.DataFrame(transcript['value'].values.tolist(),index=transcript.index)"
   ]
  },
  {
   "cell_type": "code",
   "execution_count": 4,
   "metadata": {},
   "outputs": [],
   "source": [
    "transcript=transcript.merge(df,left_index=True, right_index=True)"
   ]
  },
  {
   "cell_type": "code",
   "execution_count": 5,
   "metadata": {},
   "outputs": [],
   "source": [
    "#one hot encode channels\n",
    "from sklearn.preprocessing import MultiLabelBinarizer\n",
    "\n",
    "mlb = MultiLabelBinarizer()\n",
    "\n",
    "channel = pd.DataFrame(mlb.fit_transform(portfolio['channels']),columns=mlb.classes_, index=portfolio.index)"
   ]
  },
  {
   "cell_type": "code",
   "execution_count": 6,
   "metadata": {},
   "outputs": [],
   "source": [
    "portfolio=portfolio.merge(channel,left_index=True, right_index=True)"
   ]
  },
  {
   "cell_type": "code",
   "execution_count": 7,
   "metadata": {},
   "outputs": [],
   "source": [
    "transcript=transcript.merge(portfolio, left_on='offer_id', right_on='id', how='left')"
   ]
  },
  {
   "cell_type": "code",
   "execution_count": 8,
   "metadata": {},
   "outputs": [],
   "source": [
    "customer_tenure=transcript.merge(profile, left_on='person', right_on='id', how='left')"
   ]
  },
  {
   "cell_type": "code",
   "execution_count": 9,
   "metadata": {},
   "outputs": [],
   "source": [
    "d = datetime.datetime.now() \n",
    "customer_tenure['today']=d.strftime('%Y-%m-%d')"
   ]
  },
  {
   "cell_type": "code",
   "execution_count": 10,
   "metadata": {},
   "outputs": [],
   "source": [
    "customer_tenure['became_member_on'] = pd.to_datetime(customer_tenure['became_member_on'], format='%Y%m%d')"
   ]
  },
  {
   "cell_type": "code",
   "execution_count": 11,
   "metadata": {},
   "outputs": [],
   "source": [
    "customer_tenure['customer_tenure_in_days'] = (pd.to_datetime(customer_tenure.today) - pd.to_datetime(customer_tenure.became_member_on)).dt.days"
   ]
  },
  {
   "cell_type": "code",
   "execution_count": 12,
   "metadata": {},
   "outputs": [],
   "source": [
    "customer_tenure['customer_tenure_in_years']=customer_tenure['customer_tenure_in_days']/365"
   ]
  },
  {
   "cell_type": "code",
   "execution_count": 13,
   "metadata": {},
   "outputs": [],
   "source": [
    "customer_tenure['year'] = customer_tenure.became_member_on.dt.year"
   ]
  },
  {
   "cell_type": "code",
   "execution_count": 14,
   "metadata": {},
   "outputs": [],
   "source": [
    "cohort_ct=customer_tenure.groupby('year')['person'].nunique().reset_index()"
   ]
  },
  {
   "cell_type": "code",
   "execution_count": 17,
   "metadata": {},
   "outputs": [
    {
     "data": {
      "text/html": [
       "<div>\n",
       "<style scoped>\n",
       "    .dataframe tbody tr th:only-of-type {\n",
       "        vertical-align: middle;\n",
       "    }\n",
       "\n",
       "    .dataframe tbody tr th {\n",
       "        vertical-align: top;\n",
       "    }\n",
       "\n",
       "    .dataframe thead th {\n",
       "        text-align: right;\n",
       "    }\n",
       "</style>\n",
       "<table border=\"1\" class=\"dataframe\">\n",
       "  <thead>\n",
       "    <tr style=\"text-align: right;\">\n",
       "      <th></th>\n",
       "      <th>Member Signup Year</th>\n",
       "      <th>Total Spending (in dollars)</th>\n",
       "      <th>Cohort Size</th>\n",
       "      <th>Avg. Spend by Member Signup Year</th>\n",
       "    </tr>\n",
       "  </thead>\n",
       "  <tbody>\n",
       "    <tr>\n",
       "      <th>0</th>\n",
       "      <td>2013</td>\n",
       "      <td>23630.30</td>\n",
       "      <td>286</td>\n",
       "      <td>82.623427</td>\n",
       "    </tr>\n",
       "    <tr>\n",
       "      <th>1</th>\n",
       "      <td>2014</td>\n",
       "      <td>55746.32</td>\n",
       "      <td>691</td>\n",
       "      <td>80.674848</td>\n",
       "    </tr>\n",
       "    <tr>\n",
       "      <th>2</th>\n",
       "      <td>2015</td>\n",
       "      <td>251763.08</td>\n",
       "      <td>1830</td>\n",
       "      <td>137.575454</td>\n",
       "    </tr>\n",
       "    <tr>\n",
       "      <th>3</th>\n",
       "      <td>2016</td>\n",
       "      <td>531858.96</td>\n",
       "      <td>3526</td>\n",
       "      <td>150.839183</td>\n",
       "    </tr>\n",
       "    <tr>\n",
       "      <th>4</th>\n",
       "      <td>2017</td>\n",
       "      <td>674277.78</td>\n",
       "      <td>6469</td>\n",
       "      <td>104.232150</td>\n",
       "    </tr>\n",
       "    <tr>\n",
       "      <th>5</th>\n",
       "      <td>2018</td>\n",
       "      <td>238175.53</td>\n",
       "      <td>4198</td>\n",
       "      <td>56.735476</td>\n",
       "    </tr>\n",
       "  </tbody>\n",
       "</table>\n",
       "</div>"
      ],
      "text/plain": [
       "   Member Signup Year  Total Spending (in dollars)  Cohort Size  \\\n",
       "0                2013                     23630.30          286   \n",
       "1                2014                     55746.32          691   \n",
       "2                2015                    251763.08         1830   \n",
       "3                2016                    531858.96         3526   \n",
       "4                2017                    674277.78         6469   \n",
       "5                2018                    238175.53         4198   \n",
       "\n",
       "   Avg. Spend by Member Signup Year  \n",
       "0                         82.623427  \n",
       "1                         80.674848  \n",
       "2                        137.575454  \n",
       "3                        150.839183  \n",
       "4                        104.232150  \n",
       "5                         56.735476  "
      ]
     },
     "execution_count": 17,
     "metadata": {},
     "output_type": "execute_result"
    }
   ],
   "source": [
    "cohort=customer_tenure.groupby(['year'])['amount'].sum().reset_index()\n",
    "cohort\n",
    "cohort = cohort.merge(cohort_ct, on='year')\n",
    "cohort['Avg. Spend by Member Signup Year']=cohort['amount']/cohort['person']\n",
    "cohort.columns=['Member Signup Year','Total Spending (in dollars)','Cohort Size','Avg. Spend by Member Signup Year']\n",
    "cohort"
   ]
  },
  {
   "cell_type": "code",
   "execution_count": 21,
   "metadata": {
    "scrolled": true
   },
   "outputs": [
    {
     "data": {
      "image/png": "[encoded data removed]",
      "text/plain": [
       "<Figure size 432x288 with 1 Axes>"
      ]
     },
     "metadata": {
      "needs_background": "light"
     },
     "output_type": "display_data"
    }
   ],
   "source": [
    "#Slide 8 - Avg spending by Starbucks Member Cohort Signup Year - Bar Graph \n",
    "fig, ax = plt.subplots()\n",
    "ax.yaxis.set_major_formatter(StrMethodFormatter('{x:,}'))\n",
    "sns.lineplot(ax = ax, data = cohort, x = 'Member Signup Year', y = 'Avg. Spend by Member Signup Year')\n",
    "plt.bar(cohort['Member Signup Year'], cohort['Avg. Spend by Member Signup Year'],\n",
    "       color=['darkkhaki','sandybrown','khaki','gold','orange','peru'])\n",
    "\n",
    "#https://stackoverflow.com/questions/70235487/matplotlib-adding-value-labels-to-bar-graph\n",
    "ax.bar_label(ax.containers[0], label_type='edge', fmt='${:,.2f}')\n",
    "plt.tight_layout()\n",
    "plt.plot(cohort['Member Signup Year'], cohort['Avg. Spend by Member Signup Year'], '-o', color='indianred')\n",
    "plt.title('Average Spend by Member Signup Year')\n",
    "plt.show()"
   ]
  }
 ],
 "metadata": {
  "kernelspec": {
   "display_name": "Python 3",
   "language": "python",
   "name": "python3"
  },
  "language_info": {
   "codemirror_mode": {
    "name": "ipython",
    "version": 3
   },
   "file_extension": ".py",
   "mimetype": "text/x-python",
   "name": "python",
   "nbconvert_exporter": "python",
   "pygments_lexer": "ipython3",
   "version": "3.8.3"
  }
 },
 "nbformat": 4,
 "nbformat_minor": 4
}
