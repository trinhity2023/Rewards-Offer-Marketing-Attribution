{
 "cells": [
  {
   "cell_type": "code",
   "execution_count": 1,
   "metadata": {},
   "outputs": [],
   "source": [
    "import json\n",
    "import pandas as pd\n",
    "import seaborn as sns\n",
    "import matplotlib.pyplot as plt\n",
    "import matplotlib.ticker as ticker\n",
    "from matplotlib.ticker import ScalarFormatter,FormatStrFormatter\n",
    "import numpy as np"
   ]
  },
  {
   "cell_type": "code",
   "execution_count": 2,
   "metadata": {},
   "outputs": [],
   "source": [
    "#read json\n",
    "portfolio = pd.read_json(r'C:\\Desktop\\portfolio.json', orient='records', lines=True)\n",
    "profile = pd.read_json(r'C:\\Desktop\\profile.json', orient='records', lines=True)\n",
    "transcript = pd.read_json(r'C:\\Desktop\\transcript.json', orient='records', lines=True)"
   ]
  },
  {
   "cell_type": "code",
   "execution_count": 3,
   "metadata": {},
   "outputs": [],
   "source": [
    "df=pd.DataFrame(transcript['value'].values.tolist(),index=transcript.index)"
   ]
  },
  {
   "cell_type": "code",
   "execution_count": 4,
   "metadata": {},
   "outputs": [],
   "source": [
    "transcript=transcript.merge(df,left_index=True, right_index=True)"
   ]
  },
  {
   "cell_type": "code",
   "execution_count": 5,
   "metadata": {},
   "outputs": [],
   "source": [
    "#one hot encode channels\n",
    "from sklearn.preprocessing import MultiLabelBinarizer\n",
    "\n",
    "mlb = MultiLabelBinarizer()\n",
    "\n",
    "channel = pd.DataFrame(mlb.fit_transform(portfolio['channels']),columns=mlb.classes_, index=portfolio.index)"
   ]
  },
  {
   "cell_type": "code",
   "execution_count": 6,
   "metadata": {},
   "outputs": [],
   "source": [
    "portfolio=portfolio.merge(channel,left_index=True, right_index=True)"
   ]
  },
  {
   "cell_type": "code",
   "execution_count": 7,
   "metadata": {},
   "outputs": [],
   "source": [
    "transcript=transcript.merge(portfolio, left_on='offer_id', right_on='id', how='left')"
   ]
  },
  {
   "cell_type": "code",
   "execution_count": 8,
   "metadata": {},
   "outputs": [],
   "source": [
    "transcript=transcript.merge(profile, left_on='person', right_on='id', how='left')"
   ]
  },
  {
   "cell_type": "code",
   "execution_count": 9,
   "metadata": {},
   "outputs": [
    {
     "data": {
      "text/plain": [
       "age\n",
       "18       70\n",
       "19      135\n",
       "20      135\n",
       "21      140\n",
       "22      131\n",
       "       ... \n",
       "98        5\n",
       "99        5\n",
       "100      12\n",
       "101       5\n",
       "118    2175\n",
       "Name: person, Length: 85, dtype: int64"
      ]
     },
     "execution_count": 9,
     "metadata": {},
     "output_type": "execute_result"
    }
   ],
   "source": [
    "agg = (transcript.groupby(['age', 'person'])\n",
    "         .agg({'person': 'nunique'})\n",
    "      )\n",
    "agg.groupby('age')['person'].count()"
   ]
  },
  {
   "cell_type": "code",
   "execution_count": 10,
   "metadata": {},
   "outputs": [
    {
     "data": {
      "text/plain": [
       "15"
      ]
     },
     "execution_count": 10,
     "metadata": {},
     "output_type": "execute_result"
    }
   ],
   "source": [
    "int(np.ceil(np.log2(17000-2175)) + 1)"
   ]
  },
  {
   "cell_type": "code",
   "execution_count": 11,
   "metadata": {},
   "outputs": [],
   "source": [
    "bins= [18,24,29,35,40,46,51,57,62,68,73,79,84,90,95,102]\n",
    "labels = ['18-23','24-28','29-34','35-39','40-45','45-50','51-56',\\\n",
    "          '57-61','62-67','68-72','73-78','79-83','84-89','90-94','95-101']\n",
    "transcript['age_group']=pd.cut(transcript['age'], bins=bins, labels=labels,right=False)"
   ]
  },
  {
   "cell_type": "code",
   "execution_count": 12,
   "metadata": {},
   "outputs": [
    {
     "data": {
      "text/plain": [
       "age_group\n",
       "18-23      61711.58\n",
       "24-28      58849.81\n",
       "29-34      70381.91\n",
       "35-39      95743.48\n",
       "40-45     133467.80\n",
       "45-50     150522.56\n",
       "51-56     267417.85\n",
       "57-61     226501.45\n",
       "62-67     237465.54\n",
       "68-72     143180.97\n",
       "73-78     128005.82\n",
       "79-83      76856.81\n",
       "84-89      50139.64\n",
       "90-94      25010.82\n",
       "95-101      9686.36\n",
       "Name: amount, dtype: float64"
      ]
     },
     "execution_count": 12,
     "metadata": {},
     "output_type": "execute_result"
    }
   ],
   "source": [
    "transcript.groupby(['age_group'])['amount'].sum()"
   ]
  },
  {
   "cell_type": "code",
   "execution_count": 13,
   "metadata": {},
   "outputs": [
    {
     "data": {
      "text/plain": [
       "age_group\n",
       "18-23      737\n",
       "24-28      708\n",
       "29-34      811\n",
       "35-39      844\n",
       "40-45     1256\n",
       "45-50     1337\n",
       "51-56     2137\n",
       "57-61     1762\n",
       "62-67     1848\n",
       "68-72     1174\n",
       "73-78      992\n",
       "79-83      558\n",
       "84-89      390\n",
       "90-94      201\n",
       "95-101      70\n",
       "Name: person, dtype: int64"
      ]
     },
     "execution_count": 13,
     "metadata": {},
     "output_type": "execute_result"
    }
   ],
   "source": [
    "transcript.groupby(['age_group'])['person'].nunique()"
   ]
  },
  {
   "cell_type": "code",
   "execution_count": 14,
   "metadata": {},
   "outputs": [],
   "source": [
    "#Link: https://medium.datadriveninvestor.com/how-to-decide-on-the-number-of-bins-of-a-histogram-3c36dc5b1cd8\n",
    "#bin count by Sturges Rule: Sturges' formula: K = log2 N + 1.\n",
    "#will not count users with age 118 because they omitted age, gender, or income"
   ]
  },
  {
   "cell_type": "code",
   "execution_count": 15,
   "metadata": {},
   "outputs": [
    {
     "data": {
      "text/html": [
       "<div>\n",
       "<style scoped>\n",
       "    .dataframe tbody tr th:only-of-type {\n",
       "        vertical-align: middle;\n",
       "    }\n",
       "\n",
       "    .dataframe tbody tr th {\n",
       "        vertical-align: top;\n",
       "    }\n",
       "\n",
       "    .dataframe thead th {\n",
       "        text-align: right;\n",
       "    }\n",
       "</style>\n",
       "<table border=\"1\" class=\"dataframe\">\n",
       "  <thead>\n",
       "    <tr style=\"text-align: right;\">\n",
       "      <th></th>\n",
       "      <th>age_group</th>\n",
       "      <th>age</th>\n",
       "      <th>avg_dollars_spent</th>\n",
       "    </tr>\n",
       "  </thead>\n",
       "  <tbody>\n",
       "    <tr>\n",
       "      <th>0</th>\n",
       "      <td>18-23</td>\n",
       "      <td>18</td>\n",
       "      <td>80.465286</td>\n",
       "    </tr>\n",
       "    <tr>\n",
       "      <th>1</th>\n",
       "      <td>18-23</td>\n",
       "      <td>19</td>\n",
       "      <td>71.889778</td>\n",
       "    </tr>\n",
       "    <tr>\n",
       "      <th>2</th>\n",
       "      <td>18-23</td>\n",
       "      <td>20</td>\n",
       "      <td>76.888148</td>\n",
       "    </tr>\n",
       "    <tr>\n",
       "      <th>3</th>\n",
       "      <td>18-23</td>\n",
       "      <td>21</td>\n",
       "      <td>98.846357</td>\n",
       "    </tr>\n",
       "    <tr>\n",
       "      <th>4</th>\n",
       "      <td>18-23</td>\n",
       "      <td>22</td>\n",
       "      <td>94.175725</td>\n",
       "    </tr>\n",
       "    <tr>\n",
       "      <th>...</th>\n",
       "      <td>...</td>\n",
       "      <td>...</td>\n",
       "      <td>...</td>\n",
       "    </tr>\n",
       "    <tr>\n",
       "      <th>1270</th>\n",
       "      <td>95-101</td>\n",
       "      <td>98</td>\n",
       "      <td>74.076000</td>\n",
       "    </tr>\n",
       "    <tr>\n",
       "      <th>1271</th>\n",
       "      <td>95-101</td>\n",
       "      <td>99</td>\n",
       "      <td>168.376000</td>\n",
       "    </tr>\n",
       "    <tr>\n",
       "      <th>1272</th>\n",
       "      <td>95-101</td>\n",
       "      <td>100</td>\n",
       "      <td>169.395000</td>\n",
       "    </tr>\n",
       "    <tr>\n",
       "      <th>1273</th>\n",
       "      <td>95-101</td>\n",
       "      <td>101</td>\n",
       "      <td>175.586000</td>\n",
       "    </tr>\n",
       "    <tr>\n",
       "      <th>1274</th>\n",
       "      <td>95-101</td>\n",
       "      <td>118</td>\n",
       "      <td>NaN</td>\n",
       "    </tr>\n",
       "  </tbody>\n",
       "</table>\n",
       "<p>1275 rows × 3 columns</p>\n",
       "</div>"
      ],
      "text/plain": [
       "     age_group  age  avg_dollars_spent\n",
       "0        18-23   18          80.465286\n",
       "1        18-23   19          71.889778\n",
       "2        18-23   20          76.888148\n",
       "3        18-23   21          98.846357\n",
       "4        18-23   22          94.175725\n",
       "...        ...  ...                ...\n",
       "1270    95-101   98          74.076000\n",
       "1271    95-101   99         168.376000\n",
       "1272    95-101  100         169.395000\n",
       "1273    95-101  101         175.586000\n",
       "1274    95-101  118                NaN\n",
       "\n",
       "[1275 rows x 3 columns]"
      ]
     },
     "execution_count": 15,
     "metadata": {},
     "output_type": "execute_result"
    }
   ],
   "source": [
    "tran=transcript.groupby(['age_group','age'])['amount'].sum()/transcript.groupby(['age_group','age'])['person'].nunique()\n",
    "avg_spend_by_age=pd.DataFrame(tran).reset_index()\n",
    "avg_spend_by_age.columns =['age_group','age','avg_dollars_spent']\n",
    "avg_spend_by_age"
   ]
  },
  {
   "cell_type": "code",
   "execution_count": 16,
   "metadata": {},
   "outputs": [
    {
     "data": {
      "image/png": "[encoded data removed]",
      "text/plain": [
       "<Figure size 720x360 with 1 Axes>"
      ]
     },
     "metadata": {
      "needs_background": "light"
     },
     "output_type": "display_data"
    }
   ],
   "source": [
    "sns.catplot(data=avg_spend_by_age, x=\"age_group\", y=\"avg_dollars_spent\",kind='box', height=5, aspect=2)\n",
    "plt.title(\"Average Dollars Spent by Age Group\")\n",
    "plt.show()"
   ]
  },
  {
   "cell_type": "code",
   "execution_count": 17,
   "metadata": {},
   "outputs": [],
   "source": [
    "#Rebinning into 5 groups\n",
    "bins= [18,34,51,68,84,102]\n",
    "labels = ['18-34','35-50','51-67','68-83','84-101']\n",
    "transcript['age_group2']=pd.cut(transcript['age'], bins=bins, labels=labels,right=False)"
   ]
  },
  {
   "cell_type": "code",
   "execution_count": 18,
   "metadata": {},
   "outputs": [
    {
     "data": {
      "text/plain": [
       "age_group2\n",
       "18-34     178459.88\n",
       "35-50     392217.26\n",
       "51-67     731384.84\n",
       "68-83     348043.60\n",
       "84-101     84836.82\n",
       "Name: amount, dtype: float64"
      ]
     },
     "execution_count": 18,
     "metadata": {},
     "output_type": "execute_result"
    }
   ],
   "source": [
    "transcript.groupby(['age_group2'])['amount'].sum()"
   ]
  },
  {
   "cell_type": "code",
   "execution_count": 19,
   "metadata": {},
   "outputs": [
    {
     "data": {
      "text/plain": [
       "age_group2\n",
       "18-34     2109\n",
       "35-50     3584\n",
       "51-67     5747\n",
       "68-83     2724\n",
       "84-101     661\n",
       "Name: person, dtype: int64"
      ]
     },
     "execution_count": 19,
     "metadata": {},
     "output_type": "execute_result"
    }
   ],
   "source": [
    "transcript.groupby(['age_group2'])['person'].nunique()"
   ]
  },
  {
   "cell_type": "code",
   "execution_count": 20,
   "metadata": {},
   "outputs": [
    {
     "data": {
      "text/html": [
       "<div>\n",
       "<style scoped>\n",
       "    .dataframe tbody tr th:only-of-type {\n",
       "        vertical-align: middle;\n",
       "    }\n",
       "\n",
       "    .dataframe tbody tr th {\n",
       "        vertical-align: top;\n",
       "    }\n",
       "\n",
       "    .dataframe thead th {\n",
       "        text-align: right;\n",
       "    }\n",
       "</style>\n",
       "<table border=\"1\" class=\"dataframe\">\n",
       "  <thead>\n",
       "    <tr style=\"text-align: right;\">\n",
       "      <th></th>\n",
       "      <th>age_group2</th>\n",
       "      <th>age</th>\n",
       "      <th>avg_dollars_spent</th>\n",
       "    </tr>\n",
       "  </thead>\n",
       "  <tbody>\n",
       "    <tr>\n",
       "      <th>0</th>\n",
       "      <td>18-34</td>\n",
       "      <td>18</td>\n",
       "      <td>80.465286</td>\n",
       "    </tr>\n",
       "    <tr>\n",
       "      <th>1</th>\n",
       "      <td>18-34</td>\n",
       "      <td>19</td>\n",
       "      <td>71.889778</td>\n",
       "    </tr>\n",
       "    <tr>\n",
       "      <th>2</th>\n",
       "      <td>18-34</td>\n",
       "      <td>20</td>\n",
       "      <td>76.888148</td>\n",
       "    </tr>\n",
       "    <tr>\n",
       "      <th>3</th>\n",
       "      <td>18-34</td>\n",
       "      <td>21</td>\n",
       "      <td>98.846357</td>\n",
       "    </tr>\n",
       "    <tr>\n",
       "      <th>4</th>\n",
       "      <td>18-34</td>\n",
       "      <td>22</td>\n",
       "      <td>94.175725</td>\n",
       "    </tr>\n",
       "    <tr>\n",
       "      <th>...</th>\n",
       "      <td>...</td>\n",
       "      <td>...</td>\n",
       "      <td>...</td>\n",
       "    </tr>\n",
       "    <tr>\n",
       "      <th>420</th>\n",
       "      <td>84-101</td>\n",
       "      <td>98</td>\n",
       "      <td>74.076000</td>\n",
       "    </tr>\n",
       "    <tr>\n",
       "      <th>421</th>\n",
       "      <td>84-101</td>\n",
       "      <td>99</td>\n",
       "      <td>168.376000</td>\n",
       "    </tr>\n",
       "    <tr>\n",
       "      <th>422</th>\n",
       "      <td>84-101</td>\n",
       "      <td>100</td>\n",
       "      <td>169.395000</td>\n",
       "    </tr>\n",
       "    <tr>\n",
       "      <th>423</th>\n",
       "      <td>84-101</td>\n",
       "      <td>101</td>\n",
       "      <td>175.586000</td>\n",
       "    </tr>\n",
       "    <tr>\n",
       "      <th>424</th>\n",
       "      <td>84-101</td>\n",
       "      <td>118</td>\n",
       "      <td>NaN</td>\n",
       "    </tr>\n",
       "  </tbody>\n",
       "</table>\n",
       "<p>425 rows × 3 columns</p>\n",
       "</div>"
      ],
      "text/plain": [
       "    age_group2  age  avg_dollars_spent\n",
       "0        18-34   18          80.465286\n",
       "1        18-34   19          71.889778\n",
       "2        18-34   20          76.888148\n",
       "3        18-34   21          98.846357\n",
       "4        18-34   22          94.175725\n",
       "..         ...  ...                ...\n",
       "420     84-101   98          74.076000\n",
       "421     84-101   99         168.376000\n",
       "422     84-101  100         169.395000\n",
       "423     84-101  101         175.586000\n",
       "424     84-101  118                NaN\n",
       "\n",
       "[425 rows x 3 columns]"
      ]
     },
     "execution_count": 20,
     "metadata": {},
     "output_type": "execute_result"
    }
   ],
   "source": [
    "tran=transcript.groupby(['age_group2','age'])['amount'].sum()/transcript.groupby(['age_group2','age'])['person'].nunique()\n",
    "avg_spend_by_age=pd.DataFrame(tran).reset_index()\n",
    "avg_spend_by_age.columns =['age_group2','age','avg_dollars_spent']\n",
    "avg_spend_by_age"
   ]
  },
  {
   "cell_type": "code",
   "execution_count": 21,
   "metadata": {},
   "outputs": [
    {
     "data": {
      "image/png": "[encoded data removed]",
      "text/plain": [
       "<Figure size 720x360 with 1 Axes>"
      ]
     },
     "metadata": {
      "needs_background": "light"
     },
     "output_type": "display_data"
    }
   ],
   "source": [
    "sns.catplot(data=avg_spend_by_age, x=\"age_group2\", y=\"avg_dollars_spent\",kind='box', height=5, aspect=2)\n",
    "plt.title(\"Average Dollars Spent by Age Group\")\n",
    "plt.show()"
   ]
  },
  {
   "cell_type": "code",
   "execution_count": 24,
   "metadata": {},
   "outputs": [
    {
     "data": {
      "text/html": [
       "<div>\n",
       "<style scoped>\n",
       "    .dataframe tbody tr th:only-of-type {\n",
       "        vertical-align: middle;\n",
       "    }\n",
       "\n",
       "    .dataframe tbody tr th {\n",
       "        vertical-align: top;\n",
       "    }\n",
       "\n",
       "    .dataframe thead th {\n",
       "        text-align: right;\n",
       "    }\n",
       "</style>\n",
       "<table border=\"1\" class=\"dataframe\">\n",
       "  <thead>\n",
       "    <tr style=\"text-align: right;\">\n",
       "      <th></th>\n",
       "      <th>age_group2</th>\n",
       "      <th>avg_dollars_spent</th>\n",
       "    </tr>\n",
       "  </thead>\n",
       "  <tbody>\n",
       "    <tr>\n",
       "      <th>0</th>\n",
       "      <td>18-34</td>\n",
       "      <td>84.618246</td>\n",
       "    </tr>\n",
       "    <tr>\n",
       "      <th>1</th>\n",
       "      <td>35-50</td>\n",
       "      <td>109.435619</td>\n",
       "    </tr>\n",
       "    <tr>\n",
       "      <th>2</th>\n",
       "      <td>51-67</td>\n",
       "      <td>127.263762</td>\n",
       "    </tr>\n",
       "    <tr>\n",
       "      <th>3</th>\n",
       "      <td>68-83</td>\n",
       "      <td>127.769310</td>\n",
       "    </tr>\n",
       "    <tr>\n",
       "      <th>4</th>\n",
       "      <td>84-101</td>\n",
       "      <td>128.346172</td>\n",
       "    </tr>\n",
       "  </tbody>\n",
       "</table>\n",
       "</div>"
      ],
      "text/plain": [
       "  age_group2  avg_dollars_spent\n",
       "0      18-34          84.618246\n",
       "1      35-50         109.435619\n",
       "2      51-67         127.263762\n",
       "3      68-83         127.769310\n",
       "4     84-101         128.346172"
      ]
     },
     "execution_count": 24,
     "metadata": {},
     "output_type": "execute_result"
    }
   ],
   "source": [
    "tran=transcript.groupby(['age_group2'])['amount'].sum()/transcript.groupby(['age_group2'])['person'].nunique()\n",
    "avg_spend_by_age=pd.DataFrame(tran).reset_index()\n",
    "avg_spend_by_age.columns =['age_group2','avg_dollars_spent']\n",
    "avg_spend_by_age"
   ]
  }
 ],
 "metadata": {
  "kernelspec": {
   "display_name": "Python 3",
   "language": "python",
   "name": "python3"
  },
  "language_info": {
   "codemirror_mode": {
    "name": "ipython",
    "version": 3
   },
   "file_extension": ".py",
   "mimetype": "text/x-python",
   "name": "python",
   "nbconvert_exporter": "python",
   "pygments_lexer": "ipython3",
   "version": "3.8.3"
  }
 },
 "nbformat": 4,
 "nbformat_minor": 4
}
